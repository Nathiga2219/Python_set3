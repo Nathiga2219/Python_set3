{
 "cells": [
  {
   "cell_type": "code",
   "execution_count": null,
   "id": "236d4978",
   "metadata": {
    "id": "236d4978"
   },
   "outputs": [],
   "source": [
    "#1.Find the GCD of Two Numbers\n",
    "Question: Write a Python program to find the Greatest Common Divisor (GCD) of 36 and 60.\n"
   ]
  },
  {
   "cell_type": "code",
   "execution_count": 8,
   "id": "b9895d02-f97a-4ae0-9046-279df287e46d",
   "metadata": {},
   "outputs": [
    {
     "name": "stdin",
     "output_type": "stream",
     "text": [
      "Enter the num1: 36\n",
      "Enter the num2: 60\n"
     ]
    },
    {
     "name": "stdout",
     "output_type": "stream",
     "text": [
      "The Greatest Common Divisor (GCD) of given num1 and num2 is: 12\n"
     ]
    }
   ],
   "source": [
    "#Answer\n",
    "\n",
    "import math\n",
    "\n",
    "num1=int(input(\"Enter the num1:\"))\n",
    "num2=int(input(\"Enter the num2:\"))\n",
    "print(\"The Greatest Common Divisor (GCD) of given num1 and num2 is:\",math.gcd(num1,num2))\n",
    "\n",
    "        \n",
    "        "
   ]
  },
  {
   "cell_type": "code",
   "execution_count": null,
   "id": "e1bfc6af",
   "metadata": {
    "id": "e1bfc6af"
   },
   "outputs": [],
   "source": [
    "#2. Find the Sum of Digits of a Number\n",
    "Question: Write a Python program to find the sum of the digits of the number 987.\n",
    "\n",
    "\n"
   ]
  },
  {
   "cell_type": "code",
   "execution_count": 1,
   "id": "1598f161-2bbe-4b2b-9942-c53a85be22ab",
   "metadata": {},
   "outputs": [
    {
     "name": "stdout",
     "output_type": "stream",
     "text": [
      "Sum of the digits of given number is: 24\n"
     ]
    }
   ],
   "source": [
    "#Answer\n",
    "\n",
    "def sum_of_digits(n):\n",
    "    num=0\n",
    "    while n>0:\n",
    "        num=num+n%10\n",
    "        n=n//10\n",
    "    return num\n",
    "    #print(num)\n",
    "n=987\n",
    "print(\"Sum of the digits of given number is:\",sum_of_digits(n))\n",
    "        "
   ]
  },
  {
   "cell_type": "code",
   "execution_count": null,
   "id": "e051bb22",
   "metadata": {
    "id": "e051bb22"
   },
   "outputs": [],
   "source": [
    "#3. Find All Armstrong Numbers Between 1 and 1000\n",
    "Question: Write a Python program to print all Armstrong numbers between 1 and 1000.\n"
   ]
  },
  {
   "cell_type": "code",
   "execution_count": 18,
   "id": "c730b0ce-dbb4-4fa8-8ed7-f50b04efd42f",
   "metadata": {},
   "outputs": [
    {
     "name": "stdout",
     "output_type": "stream",
     "text": [
      "1 2 3 4 5 6 7 8 9 25 36 125 153 216 370 371 407 729 "
     ]
    }
   ],
   "source": [
    "#Answer\n",
    "class Armstrong():\n",
    "    def Armstrong_number():\n",
    "#print(\"The Armstrong number between 1 and 1000:\")\n",
    "        for num in range(1,1000+1):\n",
    "            i=0\n",
    "            temp=num\n",
    "            while temp>0:\n",
    "                j=temp%10\n",
    "                i+=j ** len(str(num))\n",
    "                temp=temp//10\n",
    "                if num==i:\n",
    "                    print(num,end=\" \")\n",
    "\n",
    "Armstrong.Armstrong_number()\n",
    "    "
   ]
  },
  {
   "cell_type": "code",
   "execution_count": null,
   "id": "dbffe07b",
   "metadata": {
    "id": "dbffe07b"
   },
   "outputs": [],
   "source": [
    "#4.Count the Frequency of Each Character in a String\n",
    "Question: Write a Python program to count the frequency of each character in \"programming\".\n",
    "\n"
   ]
  },
  {
   "cell_type": "code",
   "execution_count": 31,
   "id": "510ade72-e3c8-4310-9a01-4f0e6d33d60f",
   "metadata": {},
   "outputs": [
    {
     "name": "stdout",
     "output_type": "stream",
     "text": [
      "{'g', 'p', 'n', 'm', 'a', 'i', 'o', 'r'}\n"
     ]
    }
   ],
   "source": [
    "#p=1,r=2,o=1,g=2,a=1,m=2,i=1,n=1\n",
    "s=\"programming\"\n",
    "l_list=list(s)\n",
    "#print(l_list)\n",
    "freq=set(l_list)\n",
    "print(freq)"
   ]
  },
  {
   "cell_type": "code",
   "execution_count": null,
   "id": "f092013b",
   "metadata": {
    "id": "f092013b"
   },
   "outputs": [],
   "source": [
    "#5. Generate a List of Squares of Numbers from 1 to 10\n",
    "Question: Write a Python program to generate a list containing squares of numbers from 1 to 10.\n",
    "\n"
   ]
  },
  {
   "cell_type": "code",
   "execution_count": 5,
   "id": "997f5c18-58cc-4f9d-a882-17c129386666",
   "metadata": {},
   "outputs": [
    {
     "name": "stdout",
     "output_type": "stream",
     "text": [
      "Square of the number: [1, 4, 9, 16, 25, 36, 49, 64, 81, 100]\n"
     ]
    }
   ],
   "source": [
    "def squ_numbers():\n",
    "    sq_list=[1,2,3,4,5,6,7,8,9,10]\n",
    "    SQU=[i**2 for i in sq_list]\n",
    "    print(\"Square of the number:\",SQU)\n",
    "squ_numbers()"
   ]
  },
  {
   "cell_type": "code",
   "execution_count": null,
   "id": "3b44c858",
   "metadata": {
    "id": "3b44c858"
   },
   "outputs": [],
   "source": []
  },
  {
   "cell_type": "code",
   "execution_count": null,
   "id": "3d849771",
   "metadata": {
    "id": "3d849771"
   },
   "outputs": [],
   "source": []
  },
  {
   "cell_type": "code",
   "execution_count": null,
   "id": "7840dd7f",
   "metadata": {
    "id": "7840dd7f"
   },
   "outputs": [],
   "source": []
  },
  {
   "cell_type": "code",
   "execution_count": null,
   "id": "e7d58228",
   "metadata": {
    "id": "e7d58228"
   },
   "outputs": [],
   "source": []
  },
  {
   "cell_type": "code",
   "execution_count": null,
   "id": "85a782d9",
   "metadata": {
    "id": "85a782d9"
   },
   "outputs": [],
   "source": []
  }
 ],
 "metadata": {
  "colab": {
   "provenance": []
  },
  "kernelspec": {
   "display_name": "Python 3 (ipykernel)",
   "language": "python",
   "name": "python3"
  },
  "language_info": {
   "codemirror_mode": {
    "name": "ipython",
    "version": 3
   },
   "file_extension": ".py",
   "mimetype": "text/x-python",
   "name": "python",
   "nbconvert_exporter": "python",
   "pygments_lexer": "ipython3",
   "version": "3.12.7"
  }
 },
 "nbformat": 4,
 "nbformat_minor": 5
}
