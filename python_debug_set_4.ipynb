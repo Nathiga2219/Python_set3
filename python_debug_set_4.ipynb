{
 "cells": [
  {
   "cell_type": "code",
   "execution_count": null,
   "id": "0a1a6c00",
   "metadata": {
    "id": "0a1a6c00"
   },
   "outputs": [],
   "source": [
    "#1.Identify and fix the syntax error in the following code:\n",
    "\n",
    "\n",
    "age = 18\n",
    "if age >= 18\n",
    "    print(\"You are eligible to vote\")\n",
    "\n"
   ]
  },
  {
   "cell_type": "code",
   "execution_count": 1,
   "id": "c3fcbe46-e2c9-48b6-87d5-7afe3160113d",
   "metadata": {},
   "outputs": [
    {
     "name": "stdout",
     "output_type": "stream",
     "text": [
      "You are eligible to vote\n"
     ]
    }
   ],
   "source": [
    "#Answer\n",
    "#':' is missing\n",
    "\n",
    "age = 18\n",
    "if age >= 18:\n",
    "    print(\"You are eligible to vote\")"
   ]
  },
  {
   "cell_type": "code",
   "execution_count": null,
   "id": "231d9e31",
   "metadata": {
    "id": "231d9e31"
   },
   "outputs": [],
   "source": [
    "#2.Question:\n",
    "What error will occur in the following code?\n",
    "\n",
    "\n",
    "def greet():\n",
    "    print(\"Hello, World!\")\n",
    "\n",
    "greet_user()\n"
   ]
  },
  {
   "cell_type": "code",
   "execution_count": 2,
   "id": "4b39679f-5bbe-4d04-84d8-ae974c3f2854",
   "metadata": {},
   "outputs": [
    {
     "name": "stdout",
     "output_type": "stream",
     "text": [
      "Hello, World!\n"
     ]
    }
   ],
   "source": [
    "#answer\n",
    "#Different calling function name\n",
    "\n",
    "def greet():\n",
    "    print(\"Hello, World!\")\n",
    "\n",
    "greet()\n"
   ]
  },
  {
   "cell_type": "code",
   "execution_count": null,
   "id": "7c7dbf8f-eef2-455f-b167-7c10e467ed64",
   "metadata": {},
   "outputs": [],
   "source": [
    "#3.Identify the error in this code:\n",
    "\n",
    "name = \"Alice\"\n",
    "age = 25\n",
    "print(\"My name is \" + name + \" and I am \" + age + \" years old.\")\n"
   ]
  },
  {
   "cell_type": "code",
   "execution_count": 8,
   "id": "c64fcb81-a2ec-421b-9ed6-29b5db6d2f42",
   "metadata": {},
   "outputs": [
    {
     "name": "stdout",
     "output_type": "stream",
     "text": [
      "My name is Alice and I am 25 years old.\n"
     ]
    }
   ],
   "source": [
    "#Answer\n",
    "\n",
    "#error:string and integer will not concatenate directly . so called both values using string format.\n",
    "\n",
    "name = \"Alice\"\n",
    "age = 25\n",
    "print(\"My name is %s and I am %d years old.\" % (name,age))"
   ]
  },
  {
   "cell_type": "code",
   "execution_count": null,
   "id": "620b235e",
   "metadata": {
    "id": "620b235e"
   },
   "outputs": [],
   "source": [
    "#4.Question:\n",
    "What will happen when you run this code?\n",
    "\n",
    "a = 10\n",
    "b = 0\n",
    "result = a / b\n",
    "print(result)\n"
   ]
  },
  {
   "cell_type": "code",
   "execution_count": 14,
   "id": "574c1b5c-3875-44f1-a380-b401d2adf1cf",
   "metadata": {},
   "outputs": [
    {
     "name": "stdout",
     "output_type": "stream",
     "text": [
      "0.0\n"
     ]
    }
   ],
   "source": [
    "#Answer\n",
    "#Error : zerodivisionerror . Division by zero is undefined in maths .\n",
    "#In this program, divident is zero and divisor is non-zero value means it will provide output\n",
    "\n",
    "a = 10\n",
    "b = 0\n",
    "result = 0 / 10\n",
    "print(result)"
   ]
  },
  {
   "cell_type": "code",
   "execution_count": null,
   "id": "e231ba83",
   "metadata": {
    "id": "e231ba83"
   },
   "outputs": [],
   "source": [
    "#5.What error will occur in the following code?\n",
    "\n",
    "num = int(\"xyz\")\n",
    "print(num)\n"
   ]
  },
  {
   "cell_type": "code",
   "execution_count": 13,
   "id": "a99bc3c6-7035-4183-8aba-1ea4ea0eb665",
   "metadata": {},
   "outputs": [
    {
     "name": "stdout",
     "output_type": "stream",
     "text": [
      "xyz\n"
     ]
    }
   ],
   "source": [
    "#Answer\n",
    "#error : value error . String value is assigned to int datatype.\n",
    "#In this program,If we use str datatype , it will print given value\n",
    "\n",
    "num = str(\"xyz\")\n",
    "print(num)"
   ]
  },
  {
   "cell_type": "code",
   "execution_count": null,
   "id": "abbe96ae",
   "metadata": {
    "id": "abbe96ae"
   },
   "outputs": [],
   "source": [
    "#6.Identify the issue in this code:\n",
    "\n",
    "data = {\"name\": \"John\", \"age\": 30}\n",
    "print(data[\"city\"])\n"
   ]
  },
  {
   "cell_type": "code",
   "execution_count": 2,
   "id": "5eedc440-8570-461c-a2e4-9d1e5e452549",
   "metadata": {},
   "outputs": [
    {
     "name": "stdout",
     "output_type": "stream",
     "text": [
      "John\n"
     ]
    }
   ],
   "source": [
    "#Answer\n",
    "#error: undefined error -city value is not under data variable. so it will through error . In this program , i called name value.\n",
    "\n",
    "data = {\"name\": \"John\", \"age\": 30}\n",
    "print(data[\"name\"])"
   ]
  },
  {
   "cell_type": "code",
   "execution_count": null,
   "id": "c6abdd24-041e-4fed-9448-01b406df46a0",
   "metadata": {},
   "outputs": [],
   "source": [
    "#7.What will happen when you run this code?\n",
    "num = 1\n",
    "while num < 5:\n",
    "    print(num)"
   ]
  },
  {
   "cell_type": "code",
   "execution_count": 3,
   "id": "57a88acc-f15c-4970-932e-2be3db6925fc",
   "metadata": {},
   "outputs": [
    {
     "name": "stdout",
     "output_type": "stream",
     "text": [
      "1\n",
      "2\n",
      "3\n",
      "4\n"
     ]
    }
   ],
   "source": [
    "#Answer\n",
    "#Here code will print output in infinte loop . so by adding incremental step will print less than 5 numbers\n",
    "\n",
    "num = 1\n",
    "while num < 5:\n",
    "    #num+=1\n",
    "    print(num)\n",
    "    num+=1"
   ]
  },
  {
   "cell_type": "code",
   "execution_count": null,
   "id": "305e92c7",
   "metadata": {
    "id": "305e92c7"
   },
   "outputs": [],
   "source": [
    "#8.What is wrong with this code?\n",
    "\n",
    "fruits = (\"apple\", \"banana\", \"cherry\")\n",
    "print(fruits[3])\n"
   ]
  },
  {
   "cell_type": "code",
   "execution_count": 5,
   "id": "baf0e19a-2a77-4986-902a-e0a7dcac15d4",
   "metadata": {},
   "outputs": [
    {
     "name": "stdout",
     "output_type": "stream",
     "text": [
      "Mango\n"
     ]
    }
   ],
   "source": [
    "#Answer\n",
    "#Error:value error :element[3] is not in list. \n",
    "\n",
    "fruits = (\"apple\", \"banana\", \"cherry\",\"Mango\")\n",
    "print(fruits[3])"
   ]
  },
  {
   "cell_type": "code",
   "execution_count": null,
   "id": "af5f1fb3",
   "metadata": {
    "id": "af5f1fb3"
   },
   "outputs": [],
   "source": [
    "#9.What will happen when you run this code?\n",
    "\n",
    "text = \"hello world\"\n",
    "text.append(\"!\")\n"
   ]
  },
  {
   "cell_type": "code",
   "execution_count": 13,
   "id": "b6c711d7-320f-45d0-bda6-cc1162d1184e",
   "metadata": {},
   "outputs": [
    {
     "data": {
      "text/plain": [
       "'hello world!'"
      ]
     },
     "execution_count": 13,
     "metadata": {},
     "output_type": "execute_result"
    }
   ],
   "source": [
    "#Answer\n",
    "#Append function will concanate the values but string values through an error . '+' will combine string values. \n",
    "\n",
    "text = \"hello world\"\n",
    "text+\"!\"\n",
    "#print(t)"
   ]
  },
  {
   "cell_type": "code",
   "execution_count": null,
   "id": "35def35f",
   "metadata": {
    "id": "35def35f"
   },
   "outputs": [],
   "source": [
    "#10.What is wrong with the following code?\n",
    "\n",
    "import randoms\n",
    "print(randoms.randint(1, 10))\n"
   ]
  },
  {
   "cell_type": "code",
   "execution_count": 18,
   "id": "d2cb5ebd-5ed7-428b-88b7-93c069a5f31a",
   "metadata": {},
   "outputs": [
    {
     "name": "stdout",
     "output_type": "stream",
     "text": [
      "6\n"
     ]
    }
   ],
   "source": [
    "#Answer\n",
    "#Error:module name is random . Each time when you run program it will share different outputs less than equal to 10\n",
    "\n",
    "import random\n",
    "print(random.randint(1, 10))"
   ]
  },
  {
   "cell_type": "code",
   "execution_count": null,
   "id": "42d449ac",
   "metadata": {
    "id": "42d449ac"
   },
   "outputs": [],
   "source": []
  },
  {
   "cell_type": "code",
   "execution_count": null,
   "id": "b2e0dad5",
   "metadata": {
    "id": "b2e0dad5"
   },
   "outputs": [],
   "source": []
  },
  {
   "cell_type": "code",
   "execution_count": null,
   "id": "d0a10d28",
   "metadata": {
    "id": "d0a10d28"
   },
   "outputs": [],
   "source": []
  },
  {
   "cell_type": "code",
   "execution_count": null,
   "id": "eb543a96",
   "metadata": {
    "id": "eb543a96"
   },
   "outputs": [],
   "source": []
  },
  {
   "cell_type": "code",
   "execution_count": null,
   "id": "4f111e92",
   "metadata": {
    "id": "4f111e92"
   },
   "outputs": [],
   "source": []
  },
  {
   "cell_type": "code",
   "execution_count": null,
   "id": "fc14d2f6",
   "metadata": {
    "id": "fc14d2f6"
   },
   "outputs": [],
   "source": []
  },
  {
   "cell_type": "code",
   "execution_count": null,
   "id": "82f5edc2",
   "metadata": {
    "id": "82f5edc2"
   },
   "outputs": [],
   "source": []
  },
  {
   "cell_type": "code",
   "execution_count": null,
   "id": "d10bb741",
   "metadata": {
    "id": "d10bb741"
   },
   "outputs": [],
   "source": []
  },
  {
   "cell_type": "code",
   "execution_count": null,
   "id": "42aba435",
   "metadata": {
    "id": "42aba435"
   },
   "outputs": [],
   "source": []
  },
  {
   "cell_type": "code",
   "execution_count": null,
   "id": "c533d4e5",
   "metadata": {
    "id": "c533d4e5"
   },
   "outputs": [],
   "source": []
  },
  {
   "cell_type": "code",
   "execution_count": null,
   "id": "18dcc04b",
   "metadata": {
    "id": "18dcc04b"
   },
   "outputs": [],
   "source": []
  },
  {
   "cell_type": "code",
   "execution_count": null,
   "id": "adcc7a2d",
   "metadata": {
    "id": "adcc7a2d"
   },
   "outputs": [],
   "source": []
  },
  {
   "cell_type": "code",
   "execution_count": null,
   "id": "2136cdeb",
   "metadata": {
    "id": "2136cdeb"
   },
   "outputs": [],
   "source": []
  },
  {
   "cell_type": "code",
   "execution_count": null,
   "id": "7808f6ca",
   "metadata": {
    "id": "7808f6ca"
   },
   "outputs": [],
   "source": []
  },
  {
   "cell_type": "code",
   "execution_count": null,
   "id": "231197e7",
   "metadata": {
    "id": "231197e7"
   },
   "outputs": [],
   "source": []
  },
  {
   "cell_type": "code",
   "execution_count": null,
   "id": "dfdb3a81",
   "metadata": {
    "id": "dfdb3a81"
   },
   "outputs": [],
   "source": []
  },
  {
   "cell_type": "code",
   "execution_count": null,
   "id": "dabc1587",
   "metadata": {
    "id": "dabc1587"
   },
   "outputs": [],
   "source": []
  },
  {
   "cell_type": "code",
   "execution_count": null,
   "id": "b2a51666",
   "metadata": {
    "id": "b2a51666"
   },
   "outputs": [],
   "source": []
  },
  {
   "cell_type": "code",
   "execution_count": null,
   "id": "0fcf2650",
   "metadata": {
    "id": "0fcf2650"
   },
   "outputs": [],
   "source": []
  },
  {
   "cell_type": "code",
   "execution_count": null,
   "id": "4270d2a7",
   "metadata": {
    "id": "4270d2a7"
   },
   "outputs": [],
   "source": []
  },
  {
   "cell_type": "code",
   "execution_count": null,
   "id": "b71c4abd",
   "metadata": {
    "id": "b71c4abd"
   },
   "outputs": [],
   "source": []
  },
  {
   "cell_type": "code",
   "execution_count": null,
   "id": "f2de7bd0",
   "metadata": {
    "id": "f2de7bd0"
   },
   "outputs": [],
   "source": []
  }
 ],
 "metadata": {
  "colab": {
   "provenance": []
  },
  "kernelspec": {
   "display_name": "Python 3 (ipykernel)",
   "language": "python",
   "name": "python3"
  },
  "language_info": {
   "codemirror_mode": {
    "name": "ipython",
    "version": 3
   },
   "file_extension": ".py",
   "mimetype": "text/x-python",
   "name": "python",
   "nbconvert_exporter": "python",
   "pygments_lexer": "ipython3",
   "version": "3.12.7"
  }
 },
 "nbformat": 4,
 "nbformat_minor": 5
}
